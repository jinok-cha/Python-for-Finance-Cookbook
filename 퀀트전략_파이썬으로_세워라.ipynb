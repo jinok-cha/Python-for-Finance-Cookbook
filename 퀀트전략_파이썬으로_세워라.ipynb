{
  "nbformat": 4,
  "nbformat_minor": 0,
  "metadata": {
    "colab": {
      "name": "퀀트전략 파이썬으로 세워라.ipynb",
      "provenance": [],
      "authorship_tag": "ABX9TyPe+kgmoXbG7XUuOC48464R",
      "include_colab_link": true
    },
    "kernelspec": {
      "name": "python3",
      "display_name": "Python 3"
    },
    "language_info": {
      "name": "python"
    }
  },
  "cells": [
    {
      "cell_type": "markdown",
      "metadata": {
        "id": "view-in-github",
        "colab_type": "text"
      },
      "source": [
        "<a href=\"https://colab.research.google.com/github/jinok-cha/Python-for-Finance-Cookbook/blob/master/%ED%80%80%ED%8A%B8%EC%A0%84%EB%9E%B5_%ED%8C%8C%EC%9D%B4%EC%8D%AC%EC%9C%BC%EB%A1%9C_%EC%84%B8%EC%9B%8C%EB%9D%BC.ipynb\" target=\"_parent\"><img src=\"https://colab.research.google.com/assets/colab-badge.svg\" alt=\"Open In Colab\"/></a>"
      ]
    },
    {
      "cell_type": "code",
      "source": [
        "import pandas as pd\n",
        "import requests\n",
        "from bs4 import BeautifulSoup\n",
        "import html5lib\n",
        "from urllib.request import urlopen"
      ],
      "metadata": {
        "id": "sV48FGSUljuO"
      },
      "execution_count": null,
      "outputs": []
    },
    {
      "cell_type": "code",
      "source": [
        "def make_fs_dataframe(firm_code):\n",
        "    fs_url = 'https://comp.fnguide.com/SVO2/ASP/SVD_Finance.asp?pGB=1&cID=&MenuYn=Y&ReportGB=&NewMenuID=103&stkGb=701&gicode=' + firm_code\n",
        "    fs_page = requests.get(fs_url)\n",
        "    fs_tables = pd.read_html(fs_page.text)\n",
        "\n",
        "    temp_df = fs_tables[0]\n",
        "    temp_df = temp_df.set_index(temp_df.columns[0])\n",
        "    temp_df = temp_df[temp_df.columns[:4]]\n",
        "    temp_df = temp_df.loc[['매출액', '영업이익', '당기순이익']]\n",
        "\n",
        "    temp_df2 = fs_tables[2]\n",
        "    temp_df2 = temp_df2.set_index(temp_df2.columns[0])\n",
        "    temp_df2 = temp_df2.loc[['자산', '부채', '자본']]\n",
        "\n",
        "    temp_df3 = fs_tables[4]\n",
        "    temp_df3 = temp_df3.set_index(temp_df3.columns[0])\n",
        "    temp_df3 = temp_df3.loc[['영업활동으로인한현금흐름']]\n",
        "\n",
        "    fs_df = pd.concat([temp_df, temp_df2, temp_df3])\n",
        "    return fs_df"
      ],
      "metadata": {
        "id": "9ZmubmM5fmSG"
      },
      "execution_count": 66,
      "outputs": []
    },
    {
      "cell_type": "code",
      "source": [
        "def change_df(firm_code, dataframe):\n",
        "    for num, col in enumerate(dataframe.columns):\n",
        "        temp_df = pd.DataFrame({firm_code:dataframe[col]})\n",
        "        temp_df = temp_df.T\n",
        "        temp_df.columns = [[col] * len(dataframe), temp_df.columns]\n",
        "\n",
        "        if num == 0:\n",
        "            total_df = temp_df\n",
        "        else:\n",
        "            total_df = pd.merge(total_df, temp_df, how='outer', left_index=True, right_index=True)\n",
        "    return total_df"
      ],
      "metadata": {
        "id": "5d0dorR5lfyD"
      },
      "execution_count": null,
      "outputs": []
    },
    {
      "cell_type": "code",
      "source": [
        "def make_invest_dataframe(firm_code):\n",
        "  invest_url = 'https://comp.fnguide.com/SVO2/ASP/SVD_Invest.asp?pGB=1&cID=&MenuYn=Y&ReportGB=&NewMenuID=105&stkGb=701&gicode=' + firm_code\n",
        "  invest_page = requests.get(invest_url)\n",
        "  invest_tables = pd.read_html(invest_page.text)\n",
        "  temp_df = invest_tables[1]\n",
        "\n",
        "  temp_df = temp_df.set_index(temp_df.columns[0])\n",
        "  temp_df = temp_df.loc[['PER계산에 참여한 계정 펼치기',\n",
        "                         'PCR계산에 참여한 계정 펼치기',\n",
        "                         'PSR계산에 참여한 계정 펼치기',\n",
        "                         'PBR계산에 참여한 계정 펼치기',\n",
        "                         '총현금흐름']]\n",
        "  temp_df.index = ['PER', 'PCR', 'PSR', 'PBR', '총현금흐름']\n",
        "  return temp_df"
      ],
      "metadata": {
        "id": "FKKHCj5Plk4i"
      },
      "execution_count": 83,
      "outputs": []
    },
    {
      "cell_type": "code",
      "source": [
        "firmcode_list = ['A005930', 'A005380', 'A035420', 'A003550', 'A034730']\n",
        "\n",
        "for num, code in enumerate(firmcode_list):\n",
        "    fs_df = make_fs_dataframe(code)\n",
        "    fs_df_changed = change_df(code, fs_df)\n",
        "    if num == 0:\n",
        "        total_fr = fs_df_changed\n",
        "    else:\n",
        "        total_fr = pd.concat([total_fr, fs_df_changed])\n",
        "\n",
        "print(total_fr)"
      ],
      "metadata": {
        "colab": {
          "base_uri": "https://localhost:8080/"
        },
        "id": "PQDuPsgzf2Ak",
        "outputId": "83cafedc-93ba-42fb-b930-62788f63f5f6"
      },
      "execution_count": 72,
      "outputs": [
        {
          "output_type": "stream",
          "name": "stdout",
          "text": [
            "            2019/12                                                       \\\n",
            "IFRS(연결)        매출액      영업이익     당기순이익         자산         부채         자본   \n",
            "A005930   2304009.0  277685.0  217389.0  3525645.0   896841.0  2628804.0   \n",
            "A005380   1057464.0   36055.0   31856.0  1945122.0  1181465.0   763658.0   \n",
            "A035420     43562.0   11550.0    3968.0   122995.0    57956.0    65039.0   \n",
            "A003550     65345.0    9943.0   11068.0   224346.0    34136.0   190210.0   \n",
            "A034730    978115.0   37359.0   16060.0  1326114.0   804354.0   521760.0   \n",
            "\n",
            "                         2020/12                      ...    2021/12  \\\n",
            "IFRS(연결) 영업활동으로인한현금흐름        매출액      영업이익     당기순이익  ...         부채   \n",
            "A005930      453829.0  2368070.0  359939.0  264078.0  ...  1217212.0   \n",
            "A005380        4198.0  1039976.0   23947.0   19246.0  ...  1513306.0   \n",
            "A035420       13568.0    53041.0   12153.0    8450.0  ...    96636.0   \n",
            "A003550        8187.0    51991.0   15861.0   15407.0  ...    37296.0   \n",
            "A034730       80277.0   808188.0    -769.0   -1084.0  ...   998157.0   \n",
            "\n",
            "                                   2022/03                                 \\\n",
            "IFRS(연결)         자본 영업활동으로인한현금흐름       매출액      영업이익     당기순이익         자산   \n",
            "A005930   3048999.0     651054.0  777815.0  141214.0  113246.0  4393270.0   \n",
            "A005380    826158.0     -11764.0  302986.0   19289.0   17774.0  2370084.0   \n",
            "A035420    240274.0      13799.0   18452.0    3018.0    1514.0   336925.0   \n",
            "A003550    219402.0      10195.0   17855.0    8283.0   13450.0   287108.0   \n",
            "A034730    655651.0      61252.0  307641.0   30530.0   30012.0  1734496.0   \n",
            "\n",
            "                                             \n",
            "IFRS(연결)         부채         자본 영업활동으로인한현금흐름  \n",
            "A005930   1240360.0  3152909.0     104531.0  \n",
            "A005380   1535016.0   835068.0      21284.0  \n",
            "A035420    100254.0   236671.0       3203.0  \n",
            "A003550     30943.0   256165.0       -601.0  \n",
            "A034730   1051048.0   683448.0      10363.0  \n",
            "\n",
            "[5 rows x 28 columns]\n"
          ]
        }
      ]
    },
    {
      "cell_type": "code",
      "source": [
        "for num, code in enumerate(firmcode_list):\n",
        "    invest_df = make_invest_dataframe(code)\n",
        "    invest_df_changed = change_df(code, invest_df)\n",
        "    if num == 0:\n",
        "        total_invest = invest_df_changed\n",
        "    else:\n",
        "        total_invest = pd.concat([total_invest, invest_df_changed])\n",
        "\n",
        "print(total_invest)"
      ],
      "metadata": {
        "colab": {
          "base_uri": "https://localhost:8080/"
        },
        "id": "LuovXLeQm9vt",
        "outputId": "e65a6e04-49fa-4173-d0b8-cb2fcdcd995e"
      },
      "execution_count": 84,
      "outputs": [
        {
          "output_type": "stream",
          "name": "stdout",
          "text": [
            "        2018/12                            2019/12                             \\\n",
            "            PER    PCR   PSR   PBR   총현금흐름     PER    PCR   PSR   PBR   총현금흐름   \n",
            "A005930    6.42   4.01  1.16  1.10  691786   17.63   7.42  1.65  1.49  494337   \n",
            "A005380   22.14   6.34  0.34  0.47   53366   11.20   4.90  0.32  0.47   65904   \n",
            "A035420   30.99  22.10  3.60  3.08    7892   52.72  28.43  7.06  4.27   12624   \n",
            "A003550    6.23   5.69  1.50  0.65   20476   11.35   9.76  1.88  0.65    9721   \n",
            "A034730    8.18   2.27  0.18  1.05   93578   25.92   2.23  0.19  1.00  100090   \n",
            "\n",
            "         ... 2021/12                           2022/03                          \n",
            "         ...     PER   PCR   PSR   PBR   총현금흐름     PER  PCR  PSR   PBR   총현금흐름  \n",
            "A005930  ...   13.55  7.24  1.90  1.80  728698     NaN  NaN  NaN  1.54  203914  \n",
            "A005380  ...   11.71  6.09  0.49  0.75   93329     NaN  NaN  NaN  0.64   27012  \n",
            "A035420  ...    3.77  3.67  9.12  2.52   13546     NaN  NaN  NaN  2.32    1780  \n",
            "A003550  ...    5.22  4.89  1.95  0.57   24202     NaN  NaN  NaN  0.49    8033  \n",
            "A034730  ...    9.08  1.73  0.18  0.81  128087     NaN  NaN  NaN  0.75   42887  \n",
            "\n",
            "[5 rows x 25 columns]\n"
          ]
        }
      ]
    },
    {
      "cell_type": "code",
      "source": [
        ""
      ],
      "metadata": {
        "id": "p91UojIhlUHn"
      },
      "execution_count": null,
      "outputs": []
    }
  ]
}